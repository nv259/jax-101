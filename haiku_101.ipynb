{
  "nbformat": 4,
  "nbformat_minor": 0,
  "metadata": {
    "colab": {
      "provenance": []
    },
    "kernelspec": {
      "name": "python3",
      "display_name": "Python 3"
    },
    "language_info": {
      "name": "python"
    }
  },
  "cells": [
    {
      "cell_type": "markdown",
      "source": [
        "**From Haiku documentation**"
      ],
      "metadata": {
        "id": "QqnrjlnPHX66"
      }
    },
    {
      "cell_type": "code",
      "execution_count": 1,
      "metadata": {
        "colab": {
          "base_uri": "https://localhost:8080/"
        },
        "id": "Fw5KYXdUC61Y",
        "outputId": "460d2111-a726-4ecb-f151-967f0b6df3c5"
      },
      "outputs": [
        {
          "output_type": "stream",
          "name": "stdout",
          "text": [
            "Collecting git+https://github.com/deepmind/dm-haiku\n",
            "  Cloning https://github.com/deepmind/dm-haiku to /tmp/pip-req-build-bb0j1585\n",
            "  Running command git clone --filter=blob:none --quiet https://github.com/deepmind/dm-haiku /tmp/pip-req-build-bb0j1585\n",
            "  Resolved https://github.com/deepmind/dm-haiku to commit a7b7e73dae840153ecd828e97a64b6a875b168f7\n",
            "  Preparing metadata (setup.py) ... \u001b[?25l\u001b[?25hdone\n",
            "Requirement already satisfied: absl-py>=0.7.1 in /usr/local/lib/python3.10/dist-packages (from dm-haiku==0.0.13.dev0) (1.4.0)\n",
            "Collecting jmp>=0.0.2 (from dm-haiku==0.0.13.dev0)\n",
            "  Downloading jmp-0.0.4-py3-none-any.whl (18 kB)\n",
            "Requirement already satisfied: numpy>=1.18.0 in /usr/local/lib/python3.10/dist-packages (from dm-haiku==0.0.13.dev0) (1.25.2)\n",
            "Requirement already satisfied: tabulate>=0.8.9 in /usr/local/lib/python3.10/dist-packages (from dm-haiku==0.0.13.dev0) (0.9.0)\n",
            "Building wheels for collected packages: dm-haiku\n",
            "  Building wheel for dm-haiku (setup.py) ... \u001b[?25l\u001b[?25hdone\n",
            "  Created wheel for dm-haiku: filename=dm_haiku-0.0.13.dev0-py3-none-any.whl size=373915 sha256=5717c5aab50a0c52ea8e142bc7faa4bce03fa180efde8b8ccf70c60d47911f47\n",
            "  Stored in directory: /tmp/pip-ephem-wheel-cache-jtz30r4p/wheels/b1/df/f1/a357fa8f00c36052bdae1e1fd363650c0bd1e8c3959487b6fb\n",
            "Successfully built dm-haiku\n",
            "Installing collected packages: jmp, dm-haiku\n",
            "Successfully installed dm-haiku-0.0.13.dev0 jmp-0.0.4\n"
          ]
        }
      ],
      "source": [
        "pip install git+https://github.com/deepmind/dm-haiku"
      ]
    },
    {
      "cell_type": "markdown",
      "source": [
        "# Haiku Basics"
      ],
      "metadata": {
        "id": "E10U68qGDWaX"
      }
    },
    {
      "cell_type": "code",
      "source": [
        "import haiku as hk\n",
        "import jax\n",
        "import jax.numpy as jnp\n",
        "import numpy as np"
      ],
      "metadata": {
        "id": "331aWAZHDRGG"
      },
      "execution_count": 2,
      "outputs": []
    },
    {
      "cell_type": "markdown",
      "source": [
        "## A first example with `hk.transform`\n",
        "\n",
        " A linear module with weights and biases with custom initializations."
      ],
      "metadata": {
        "id": "1l-ni024Dht1"
      }
    },
    {
      "cell_type": "markdown",
      "source": [
        "### Define module"
      ],
      "metadata": {
        "id": "7wddTXI6FSpe"
      }
    },
    {
      "cell_type": "code",
      "source": [
        "class MyLinear1(hk.Module):\n",
        "\n",
        "    def __init__(self, output_size, name=None):\n",
        "        super().__init__(name=name)\n",
        "        self.output_size = output_size\n",
        "\n",
        "    def __call__(self, x):\n",
        "        j, k = x.shape[-1], self.output_size\n",
        "        w_init = hk.initializers.TruncatedNormal(1. / np.sqrt(j))\n",
        "        w = hk.get_parameter(\"w\", shape=[j, k], dtype=x.dtype, init=w_init)\n",
        "        b = hk.get_parameter(\"b\", shape=[k], dtype=x.dtype, init=jnp.ones)\n",
        "\n",
        "        return jnp.dot(x, w) + b"
      ],
      "metadata": {
        "id": "_osb4JWADVAL"
      },
      "execution_count": 3,
      "outputs": []
    },
    {
      "cell_type": "markdown",
      "source": [
        "### Pure function transformation"
      ],
      "metadata": {
        "id": "jVd6E64CFXtd"
      }
    },
    {
      "cell_type": "code",
      "source": [
        "def _forward_fn_linear1(x):\n",
        "    module = MyLinear1(output_size=2)\n",
        "    return module(x)\n",
        "\n",
        "forward_linear1 = hk.transform(_forward_fn_linear1)"
      ],
      "metadata": {
        "id": "A_x8nBTpE5lR"
      },
      "execution_count": 4,
      "outputs": []
    },
    {
      "cell_type": "markdown",
      "source": [
        "We see that the forward wrapper object now contains two methods, `init` and `apply`, that are used to initialize the variables and do forward inference on the module.\n"
      ],
      "metadata": {
        "id": "M4Pa86PxFFzu"
      }
    },
    {
      "cell_type": "code",
      "source": [
        "forward_linear1"
      ],
      "metadata": {
        "colab": {
          "base_uri": "https://localhost:8080/"
        },
        "id": "vDiykZOcE6fy",
        "outputId": "d74bc868-44ad-453a-9bf4-09ecaa0249a6"
      },
      "execution_count": 5,
      "outputs": [
        {
          "output_type": "execute_result",
          "data": {
            "text/plain": [
              "Transformed(init=<function without_state.<locals>.init_fn at 0x7cf8241d9cf0>, apply=<function without_state.<locals>.apply_fn at 0x7cf8241d9c60>)"
            ]
          },
          "metadata": {},
          "execution_count": 5
        }
      ]
    },
    {
      "cell_type": "markdown",
      "source": [
        "#### `Init` fn\n",
        "Calling the init method will initialize the parameters of the network and return them. The init method takes a `jax.random.PRNGKey` and a sample input (usually just some dummy values to tell the networks about the expected shapes).\n"
      ],
      "metadata": {
        "id": "MqmoqkT_FeH4"
      }
    },
    {
      "cell_type": "code",
      "source": [
        "dummy_x = jnp.array([[1., 2., 3.]])\n",
        "rng_key = jax.random.PRNGKey(42)\n",
        "\n",
        "params = forward_linear1.init(rng=rng_key, x=dummy_x)\n",
        "print(params)"
      ],
      "metadata": {
        "colab": {
          "base_uri": "https://localhost:8080/"
        },
        "id": "leewfELBFuHb",
        "outputId": "6c86bd87-b29c-402a-fdeb-61aae28fa9a9"
      },
      "execution_count": 8,
      "outputs": [
        {
          "output_type": "stream",
          "name": "stdout",
          "text": [
            "{'my_linear1': {'w': Array([[-0.30350363,  0.5123802 ],\n",
            "       [ 0.08009142, -0.3163005 ],\n",
            "       [ 0.6056666 ,  0.5820702 ]], dtype=float32), 'b': Array([1., 1.], dtype=float32)}}\n",
            "(1, 3)\n"
          ]
        }
      ]
    },
    {
      "cell_type": "markdown",
      "source": [
        "#### `apply` fn\n",
        "use the params to apply the forward function to some inputs."
      ],
      "metadata": {
        "id": "UoXJG-rHGNSe"
      }
    },
    {
      "cell_type": "code",
      "source": [
        "sample_x = jnp.array([[1., 2., 3.]])\n",
        "sample_x_2 = jnp.array([[4., 5., 6.],\n",
        "                        [7., 8., 9.]])\n",
        "\n",
        "output1 = forward_linear1.apply(params=params, x=sample_x, rng=rng_key)\n",
        "# Outputs are identical for given inputs since the forward inference is non-stochastic.\n",
        "output2 = forward_linear1.apply(params=params, x=sample_x, rng=rng_key)\n",
        "\n",
        "output3 = forward_linear1.apply(params=params, x=sample_x_2, rng=rng_key)\n",
        "\n",
        "print(output1)\n",
        "print(output2)  # same as ouptut1\n",
        "print(output3)"
      ],
      "metadata": {
        "colab": {
          "base_uri": "https://localhost:8080/"
        },
        "id": "DbhpYbv1F7f2",
        "outputId": "85983786-40c9-4bf9-ca37-5af67cff5249"
      },
      "execution_count": 11,
      "outputs": [
        {
          "output_type": "stream",
          "name": "stdout",
          "text": [
            "[[2.6736789 2.6259897]]\n",
            "[[2.6736789 2.6259897]]\n",
            "[[3.820442 4.960439]\n",
            " [4.967205 7.294889]]\n"
          ]
        }
      ]
    },
    {
      "cell_type": "markdown",
      "source": [
        "### Inference without random key\n",
        "In some cases, the module that we built is inherently non-stochastic. Hence, passing a random key to apply method seems redundant. Haiku offers another transformation `hk.without_apply_rng` which can be further wrapped around our `hk.transform` method."
      ],
      "metadata": {
        "id": "egrnyMtLHfql"
      }
    },
    {
      "cell_type": "code",
      "source": [
        "forward_without_rng = hk.without_apply_rng(hk.transform(_forward_fn_linear1))\n",
        "\n",
        "params = forward_without_rng.init(rng=rng_key, x=sample_x)\n",
        "output = forward_without_rng.apply(params=params, x=sample_x)\n",
        "\n",
        "print(output)"
      ],
      "metadata": {
        "colab": {
          "base_uri": "https://localhost:8080/"
        },
        "id": "lcx7BULzHDUU",
        "outputId": "9f6e5543-f95c-4911-b01d-b16e26ee986c"
      },
      "execution_count": 12,
      "outputs": [
        {
          "output_type": "stream",
          "name": "stdout",
          "text": [
            "[[2.6736789 2.6259897]]\n"
          ]
        }
      ]
    },
    {
      "cell_type": "markdown",
      "source": [
        "We can also mutate the parameters and then do forward inference to generate a different output for the same inputs. This is what is done to apply gradient descent to our parameters while learning."
      ],
      "metadata": {
        "id": "cNfGnDwAIidv"
      }
    },
    {
      "cell_type": "code",
      "source": [
        "mutated_params = jax.tree_util.tree_map(lambda x: x+1., params)\n",
        "print(f'Mutated params \\n : {mutated_params}')\n",
        "mutated_output = forward_without_rng.apply(x=sample_x, params=mutated_params)\n",
        "print(f'Output with mutated params \\n {mutated_output}')"
      ],
      "metadata": {
        "colab": {
          "base_uri": "https://localhost:8080/"
        },
        "id": "R64jBIDtIirh",
        "outputId": "fa42b8e7-419c-444a-eb19-5b53545ac7e7"
      },
      "execution_count": 21,
      "outputs": [
        {
          "output_type": "stream",
          "name": "stdout",
          "text": [
            "Mutated params \n",
            " : {'my_linear1': {'b': Array([2., 2.], dtype=float32), 'w': Array([[0.69649637, 1.5123801 ],\n",
            "       [1.0800915 , 0.6836995 ],\n",
            "       [1.6056666 , 1.5820701 ]], dtype=float32)}}\n",
            "Output with mutated params \n",
            " [[9.673679 9.62599 ]]\n"
          ]
        }
      ]
    },
    {
      "cell_type": "markdown",
      "source": [
        "## Stateful Inference in Haiku\n",
        "For some modules you might want to maintain and carry over the internal state across function calls."
      ],
      "metadata": {
        "id": "Yx2kE-OlMMu8"
      }
    },
    {
      "cell_type": "code",
      "source": [
        "def stateful_f(x):\n",
        "    counter = hk.get_state(\"counter\", shape=[], dtype=jnp.int32, init=jnp.ones)\n",
        "    multiplier = hk.get_parameter(\"multiplier\", shape=[1, ], dtype=x.dtype, init=jnp.ones)\n",
        "    hk.set_state(\"counter\", counter + 1)\n",
        "    output = x + multiplier * counter\n",
        "\n",
        "    return output\n",
        "\n",
        "stateful_forward = hk.without_apply_rng(hk.transform_with_state(stateful_f))\n",
        "sample_x = jnp.array([[5., ]])\n",
        "params, state = stateful_forward.init(x=sample_x, rng=rng_key)\n",
        "\n",
        "print(f'Initial params:\\n{params}\\nInitial state:\\n{state}')\n",
        "print('##########')\n",
        "for i in range(3):\n",
        "  output, state = stateful_forward.apply(params, state, x=sample_x)\n",
        "  print(f'After {i+1} iterations:\\nOutput: {output}\\nState: {state}')\n",
        "  print('##########')"
      ],
      "metadata": {
        "colab": {
          "base_uri": "https://localhost:8080/"
        },
        "id": "zaS2nlL-Ik_v",
        "outputId": "9eef00c1-eaeb-4df7-bed4-51e8d64bbfaa"
      },
      "execution_count": 22,
      "outputs": [
        {
          "output_type": "stream",
          "name": "stdout",
          "text": [
            "Initial params:\n",
            "{'~': {'multiplier': Array([1.], dtype=float32)}}\n",
            "Initial state:\n",
            "{'~': {'counter': Array(1, dtype=int32)}}\n",
            "##########\n",
            "After 1 iterations:\n",
            "Output: [[6.]]\n",
            "State: {'~': {'counter': Array(2, dtype=int32)}}\n",
            "##########\n",
            "After 2 iterations:\n",
            "Output: [[7.]]\n",
            "State: {'~': {'counter': Array(3, dtype=int32)}}\n",
            "##########\n",
            "After 3 iterations:\n",
            "Output: [[8.]]\n",
            "State: {'~': {'counter': Array(4, dtype=int32)}}\n",
            "##########\n"
          ]
        }
      ]
    },
    {
      "cell_type": "markdown",
      "source": [
        "## Built-in Haiku nets and nested modules"
      ],
      "metadata": {
        "id": "GcLFUExjNnT6"
      }
    },
    {
      "cell_type": "code",
      "source": [
        "class MyModuleCustom(hk.Module):\n",
        "\n",
        "    def __init__(self, output_size=2, name='custom_linear'):\n",
        "        super().__init__(name=name)\n",
        "        self._internal_linear_1 = hk.nets.MLP(output_sizes=[2, 3], name='hk_internal_linear')\n",
        "        self._internal_linear_2 = MyLinear1(output_size=output_size, name='old_linear')\n",
        "\n",
        "    def __call__(self, x):\n",
        "        x = self._internal_linear_1(x)\n",
        "        x = self._internal_linear_2(x)\n",
        "\n",
        "        return x\n",
        "\n",
        "def _custom_forward_fn(x):\n",
        "    module = MyModuleCustom()\n",
        "\n",
        "    return module(x)"
      ],
      "metadata": {
        "id": "f8v7KaWoNPwf"
      },
      "execution_count": 23,
      "outputs": []
    },
    {
      "cell_type": "code",
      "source": [
        "custom_forward_without_rng = hk.without_apply_rng(hk.transform(_custom_forward_fn))\n",
        "params = custom_forward_without_rng.init(rng=rng_key, x=sample_x)\n",
        "print(jax.tree.map(lambda x: x.shape, params))\n",
        "params"
      ],
      "metadata": {
        "colab": {
          "base_uri": "https://localhost:8080/"
        },
        "id": "QRsEBXmUOe46",
        "outputId": "71272039-d438-4d02-8f54-f02f254ce622"
      },
      "execution_count": 27,
      "outputs": [
        {
          "output_type": "stream",
          "name": "stdout",
          "text": [
            "{'custom_linear/~/hk_internal_linear/~/linear_0': {'b': (2,), 'w': (1, 2)}, 'custom_linear/~/hk_internal_linear/~/linear_1': {'b': (3,), 'w': (2, 3)}, 'custom_linear/~/old_linear': {'b': (2,), 'w': (3, 2)}}\n"
          ]
        },
        {
          "output_type": "execute_result",
          "data": {
            "text/plain": [
              "{'custom_linear/~/hk_internal_linear/~/linear_0': {'w': Array([[ 1.51595   , -0.23353337]], dtype=float32),\n",
              "  'b': Array([0., 0.], dtype=float32)},\n",
              " 'custom_linear/~/hk_internal_linear/~/linear_1': {'w': Array([[-0.22075887, -0.27375957,  0.5931483 ],\n",
              "         [ 0.7818068 ,  0.72626334, -0.6860752 ]], dtype=float32),\n",
              "  'b': Array([0., 0., 0.], dtype=float32)},\n",
              " 'custom_linear/~/old_linear': {'w': Array([[ 0.28584382,  0.31626168],\n",
              "         [ 0.2335775 , -0.4827032 ],\n",
              "         [-0.14647584, -0.7185701 ]], dtype=float32),\n",
              "  'b': Array([1., 1.], dtype=float32)}}"
            ]
          },
          "metadata": {},
          "execution_count": 27
        }
      ]
    },
    {
      "cell_type": "markdown",
      "source": [
        "## RNG Keys with `hk.next_rng_key()`"
      ],
      "metadata": {
        "id": "gcALIW3GSyC6"
      }
    },
    {
      "cell_type": "code",
      "source": [
        "class HkRandom2(hk.Module):\n",
        "\n",
        "    def __init__(self, rate=0.5):\n",
        "        super().__init__()\n",
        "        self.rate = rate\n",
        "\n",
        "    def __call__(self, x):\n",
        "        key1 = hk.next_rng_key()\n",
        "        return jax.random.bernoulli(key1, 1.0 - self.rate, shape=x.shape)\n",
        "\n",
        "\n",
        "class HkRandomNest(hk.Module):\n",
        "\n",
        "    def __init__(self, rate=0.5):\n",
        "        super().__init__()\n",
        "        self.rate = rate\n",
        "        self._another_random_module = HkRandom2()\n",
        "\n",
        "    def __call__(self, x):\n",
        "        key2 = hk.next_rng_key()\n",
        "        p1 = self._another_random_module(x)\n",
        "        p2 = jax.random.bernoulli(key2, 1.0 - self.rate, shape=x.shape)\n",
        "\n",
        "        print(f\"Bernoullis are: {p1, p2}\")\n",
        "\n",
        "# Note that the modules that are stochastic cannot be wrapped with hk.without_apply_rng()\n",
        "forward = hk.transform(lambda x: HkRandomNest()(x))\n",
        "\n",
        "x = jnp.array(1.)\n",
        "print(\"INIT:\")\n",
        "params = forward.init(rng_key, x=x)\n",
        "print(\"APPLY:\")\n",
        "prediction = forward.apply(params, x=x, rng=rng_key)"
      ],
      "metadata": {
        "colab": {
          "base_uri": "https://localhost:8080/"
        },
        "id": "V57DbdSsOwGz",
        "outputId": "33756c90-0a06-4875-e763-4fbbea7e6ebc"
      },
      "execution_count": 28,
      "outputs": [
        {
          "output_type": "stream",
          "name": "stdout",
          "text": [
            "INIT:\n",
            "Bernoullis are: (Array(True, dtype=bool), Array(False, dtype=bool))\n",
            "APPLY:\n",
            "Bernoullis are: (Array(True, dtype=bool), Array(False, dtype=bool))\n"
          ]
        }
      ]
    },
    {
      "cell_type": "markdown",
      "source": [
        "**Note that this means that passing the same random key to multiple calls of the apply function will generate the same stochastic results!**"
      ],
      "metadata": {
        "id": "UnhsO-tcUhBl"
      }
    },
    {
      "cell_type": "code",
      "source": [
        "for _ in range(3):\n",
        "  forward.apply(params, x=x, rng=rng_key)"
      ],
      "metadata": {
        "colab": {
          "base_uri": "https://localhost:8080/"
        },
        "id": "y5NUmeiwUfei",
        "outputId": "c740a45b-10c2-4fb0-e359-7089278fab15"
      },
      "execution_count": 32,
      "outputs": [
        {
          "output_type": "stream",
          "name": "stdout",
          "text": [
            "Bernoullis are: (Array(True, dtype=bool), Array(False, dtype=bool))\n",
            "Bernoullis are: (Array(True, dtype=bool), Array(False, dtype=bool))\n",
            "Bernoullis are: (Array(True, dtype=bool), Array(False, dtype=bool))\n"
          ]
        }
      ]
    },
    {
      "cell_type": "code",
      "source": [
        "# solution 1:\n",
        "for _ in range(3):\n",
        "  rng_key, apply_rng_key = jax.random.split(rng_key)\n",
        "  forward.apply(params, x=x, rng=apply_rng_key)"
      ],
      "metadata": {
        "colab": {
          "base_uri": "https://localhost:8080/"
        },
        "id": "Tir7auarUmxU",
        "outputId": "6b0bbb8c-31b5-40cb-e239-1d7b4886a458"
      },
      "execution_count": 33,
      "outputs": [
        {
          "output_type": "stream",
          "name": "stdout",
          "text": [
            "Bernoullis are: (Array(False, dtype=bool), Array(False, dtype=bool))\n",
            "Bernoullis are: (Array(True, dtype=bool), Array(False, dtype=bool))\n",
            "Bernoullis are: (Array(False, dtype=bool), Array(False, dtype=bool))\n"
          ]
        }
      ]
    },
    {
      "cell_type": "code",
      "source": [
        "# solution 2:\n",
        "rng_sequence = hk.PRNGSequence(rng_key)\n",
        "for _ in range(3):\n",
        "  forward.apply(params, x=x, rng=next(rng_sequence))"
      ],
      "metadata": {
        "colab": {
          "base_uri": "https://localhost:8080/"
        },
        "id": "DZsyLXGWUokZ",
        "outputId": "cbb729fe-24f0-4e00-e6c9-8be1cf75f52b"
      },
      "execution_count": 34,
      "outputs": [
        {
          "output_type": "stream",
          "name": "stdout",
          "text": [
            "Bernoullis are: (Array(False, dtype=bool), Array(True, dtype=bool))\n",
            "Bernoullis are: (Array(False, dtype=bool), Array(False, dtype=bool))\n",
            "Bernoullis are: (Array(False, dtype=bool), Array(True, dtype=bool))\n"
          ]
        }
      ]
    }
  ]
}