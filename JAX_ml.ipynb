{
  "nbformat": 4,
  "nbformat_minor": 0,
  "metadata": {
    "colab": {
      "provenance": []
    },
    "kernelspec": {
      "name": "python3",
      "display_name": "Python 3"
    },
    "language_info": {
      "name": "python"
    }
  },
  "cells": [
    {
      "cell_type": "markdown",
      "source": [
        "Note: this notebook heavily relies on Aleksa Gordic's note book"
      ],
      "metadata": {
        "id": "Q6Qtq5WmZvrl"
      }
    },
    {
      "cell_type": "markdown",
      "source": [
        "# Stateful Computations"
      ],
      "metadata": {
        "id": "58J3yw96ddQt"
      }
    },
    {
      "cell_type": "markdown",
      "source": [
        "## Problem"
      ],
      "metadata": {
        "id": "sEdAdZSufUwL"
      }
    },
    {
      "cell_type": "code",
      "execution_count": 2,
      "metadata": {
        "id": "4-eadLpzVuQ4"
      },
      "outputs": [],
      "source": [
        "import jax\n",
        "import jax.numpy as jnp\n",
        "import numpy as np\n",
        "\n",
        "from jax import grad, jit, vmap, pmap\n",
        "\n",
        "from jax import random\n",
        "import matplotlib.pyplot as plt\n",
        "from copy import deepcopy\n",
        "from typing import Tuple, NamedTuple\n",
        "import functools"
      ]
    },
    {
      "cell_type": "code",
      "source": [
        "# 1) Imputer functions are problematic.\n",
        "\n",
        "g = 0.  # state\n",
        "\n",
        "def impure_uses_global(x):\n",
        "    return x + g\n",
        "\n",
        "# JAX captures the value of the global/state during the first run\n",
        "print(\"First call:\", jit(impure_uses_global)(4.))\n",
        "\n",
        "g = 10.\n",
        "\n",
        "print(\"Second call:\", jit(impure_uses_global)(5.))"
      ],
      "metadata": {
        "colab": {
          "base_uri": "https://localhost:8080/"
        },
        "id": "x0eQxn9ZaEp_",
        "outputId": "13de7142-9c20-4573-da6f-0257e434efe1"
      },
      "execution_count": 3,
      "outputs": [
        {
          "output_type": "stream",
          "name": "stdout",
          "text": [
            "First call: 4.0\n",
            "Second call: 5.0\n"
          ]
        }
      ]
    },
    {
      "cell_type": "code",
      "source": [
        "# 2) Pattern how JAX's PRNG (not stateful) is handling state.\n",
        "\n",
        "seed = 0\n",
        "state = jax.random.PRNGKey(seed)\n",
        "\n",
        "state1, state2 = jax.random.split(state)"
      ],
      "metadata": {
        "id": "yMT35zfja5Xh"
      },
      "execution_count": 6,
      "outputs": []
    },
    {
      "cell_type": "code",
      "source": [
        "# Problem of state!\n",
        "# NN love statefulness: model params, optimizer params, BatchNorm, etc.\n",
        "# and this is a problem with JAX\n",
        "\n",
        "class Counter:\n",
        "    \"\"\"A simple counter.\"\"\"\n",
        "\n",
        "    def __init__(self):\n",
        "        self.n = 0\n",
        "\n",
        "    def count(self) -> int:\n",
        "        self.n += 1\n",
        "        return self.n\n",
        "\n",
        "    def reset(self):\n",
        "        self.n = 0\n",
        "\n",
        "counter = Counter()\n",
        "\n",
        "for _ in range(3):\n",
        "    print(counter.count())\n"
      ],
      "metadata": {
        "colab": {
          "base_uri": "https://localhost:8080/"
        },
        "id": "uuD9IwWzbIBL",
        "outputId": "eba6f911-1223-48eb-a3ed-c2149a71cba4"
      },
      "execution_count": 8,
      "outputs": [
        {
          "output_type": "stream",
          "name": "stdout",
          "text": [
            "1\n",
            "2\n",
            "3\n"
          ]
        }
      ]
    },
    {
      "cell_type": "code",
      "source": [
        "from jax import make_jaxpr\n",
        "\n",
        "counter.reset()\n",
        "print(make_jaxpr(counter.count)())"
      ],
      "metadata": {
        "colab": {
          "base_uri": "https://localhost:8080/"
        },
        "id": "EkROgWRhc5Xt",
        "outputId": "67068251-c3c9-4f10-d103-b63f79636043"
      },
      "execution_count": 9,
      "outputs": [
        {
          "output_type": "stream",
          "name": "stdout",
          "text": [
            "{ lambda ; . let  in (1,) }\n"
          ]
        }
      ]
    },
    {
      "cell_type": "code",
      "source": [
        "counter.reset()\n",
        "fast_count = jax.jit(counter.count)\n",
        "\n",
        "for _ in range(3):\n",
        "    print(fast_count())"
      ],
      "metadata": {
        "colab": {
          "base_uri": "https://localhost:8080/"
        },
        "id": "XozMGI1ydERK",
        "outputId": "dd1a54a8-3ee7-4c5a-e415-f0ac91cd175c"
      },
      "execution_count": 10,
      "outputs": [
        {
          "output_type": "stream",
          "name": "stdout",
          "text": [
            "1\n",
            "1\n",
            "1\n"
          ]
        }
      ]
    },
    {
      "cell_type": "markdown",
      "source": [
        "## Solution"
      ],
      "metadata": {
        "id": "2Uy883YxfWFg"
      }
    },
    {
      "cell_type": "code",
      "source": [
        "CounterState = int  # our counter state is implemented as a simple integer\n",
        "\n",
        "class CounterV2:\n",
        "\n",
        "    def count(self, n: CounterState) -> Tuple[int, CounterState]:\n",
        "        # You could just return n + 1, but here we seperate its role as\n",
        "        # the output and as the counter state for didactic purposes.\n",
        "        # (as output may be some arbitrary function of state in general case)\n",
        "        return n+1, n+1\n",
        "\n",
        "    def reset(self) -> CounterState:\n",
        "        return 0\n",
        "\n",
        "counter = CounterV2()\n",
        "state = counter.reset()\n",
        "\n",
        "for _ in range(3):\n",
        "    value, state = counter.count(state)\n",
        "    print(value)"
      ],
      "metadata": {
        "colab": {
          "base_uri": "https://localhost:8080/"
        },
        "id": "K3WXf2X7eVGM",
        "outputId": "1057fedd-13bd-4ab4-d396-5592b8934a7c"
      },
      "execution_count": 11,
      "outputs": [
        {
          "output_type": "stream",
          "name": "stdout",
          "text": [
            "1\n",
            "2\n",
            "3\n"
          ]
        }
      ]
    },
    {
      "cell_type": "code",
      "source": [
        "state = counter.reset()\n",
        "fast_count = jax.jit(counter.count)\n",
        "\n",
        "for _ in range(3):\n",
        "    value, state = fast_count(state)\n",
        "    print(value)"
      ],
      "metadata": {
        "id": "hopPZ98OgBLD"
      },
      "execution_count": null,
      "outputs": []
    },
    {
      "cell_type": "markdown",
      "source": [
        "In summary, we used the following rule to convert a stateful class:\n",
        "\n",
        "```python\n",
        "class StatefulClass\n",
        "    \n",
        "    state: State\n",
        "\n",
        "    def stateful_method(*arg, **kwargs)->Output:\n",
        "```\n",
        "\n",
        "into a class of the form:\n",
        "```python\n",
        "class StatelessClass\n",
        "\n",
        "    def stateless_method(state: State, *args, **kwargs)->(Output, State):\n",
        "```"
      ],
      "metadata": {
        "id": "DoVu-2kogWh1"
      }
    },
    {
      "cell_type": "code",
      "source": [],
      "metadata": {
        "id": "eHw6osisgaXT"
      },
      "execution_count": null,
      "outputs": []
    }
  ]
}