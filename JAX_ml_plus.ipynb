{
  "nbformat": 4,
  "nbformat_minor": 0,
  "metadata": {
    "colab": {
      "provenance": [],
      "gpuType": "T4"
    },
    "kernelspec": {
      "name": "python3",
      "display_name": "Python 3"
    },
    "language_info": {
      "name": "python"
    },
    "accelerator": "GPU"
  },
  "cells": [
    {
      "cell_type": "code",
      "source": [
        "import numpy as np\n",
        "\n",
        "import jax\n",
        "import jax.numpy as jnp\n",
        "from jax.scipy.special import logsumexp\n",
        "from jax import jit, vmap, pmap, grad\n",
        "\n",
        "from torchvision.datasets import MNIST\n",
        "from torch.utils.data import DataLoader\n",
        "\n",
        "import matplotlib.pyplot as plt"
      ],
      "metadata": {
        "id": "cGvkr0TaR7pU"
      },
      "execution_count": 22,
      "outputs": []
    },
    {
      "cell_type": "markdown",
      "source": [
        "# MLP training on MNIST"
      ],
      "metadata": {
        "id": "nHjeQAbfQh9u"
      }
    },
    {
      "cell_type": "code",
      "execution_count": 3,
      "metadata": {
        "id": "OtDcyQ-wP0Ic"
      },
      "outputs": [],
      "source": [
        "# TODO: init MLP and add the predict\n",
        "# TODO: add data loading in PyTorch\n",
        "# TODO: ad the training loop, loss fn"
      ]
    },
    {
      "cell_type": "code",
      "source": [
        "seed = 0\n",
        "mnist_img_size = (28, 28)\n",
        "batch_size = 128\n",
        "\n",
        "def init_MLP(layer_widths, rng_key, scale=0.01):\n",
        "\n",
        "    params = []\n",
        "    keys = jax.random.split(rng_key, num=len(layer_widths)-1)\n",
        "\n",
        "    for in_width, out_width, key in zip(layer_widths[:-1], layer_widths[1:], keys):\n",
        "        weight_key, bias_key = jax.random.split(key)\n",
        "\n",
        "        params.append([\n",
        "            scale * jax.random.normal(weight_key, (out_width, in_width)),    # weight\n",
        "            scale * jax.random.normal(bias_key, (out_width,))                 # bias\n",
        "        ])\n",
        "\n",
        "    return params\n",
        "\n",
        "# tests\n",
        "key = jax.random.PRNGKey(0)\n",
        "MLP_params = init_MLP([784, 512, 256, 10], key)\n",
        "\n",
        "print(jax.tree.map(lambda x: x.shape, MLP_params))"
      ],
      "metadata": {
        "colab": {
          "base_uri": "https://localhost:8080/"
        },
        "id": "JF6uPVLHQ6-U",
        "outputId": "3e90a1f7-322e-4538-87ec-11dd28f0a0f6"
      },
      "execution_count": 4,
      "outputs": [
        {
          "output_type": "stream",
          "name": "stdout",
          "text": [
            "[[(512, 784), (512,)], [(256, 512), (256,)], [(10, 256), (10,)]]\n"
          ]
        }
      ]
    },
    {
      "cell_type": "code",
      "source": [
        "def MLP_predict(params, x):\n",
        "    hidden_layers = params[:-1]\n",
        "\n",
        "    for w, b in hidden_layers:\n",
        "        x = jnp.dot(w, x) + b\n",
        "        x = jax.nn.relu(x)\n",
        "\n",
        "    w_final, b_final = params[-1]\n",
        "    logits = jnp.dot(w_final, x) + b_final\n",
        "    return logits - logsumexp(logits)\n",
        "\n",
        "# tests\n",
        "dummy_img_flat = np.random.randn(np.prod(mnist_img_size))\n",
        "print(dummy_img_flat.shape)\n",
        "\n",
        "predict = jax.jit(MLP_predict)\n",
        "print(predict(MLP_params, dummy_img_flat).shape)\n",
        "\n",
        "batched_MLP_predict = jit(vmap(MLP_predict, in_axes=(None, 0)))\n",
        "print(batched_MLP_predict(MLP_params, np.stack([dummy_img_flat, dummy_img_flat])).shape)"
      ],
      "metadata": {
        "colab": {
          "base_uri": "https://localhost:8080/"
        },
        "id": "QxX_otSoT0KK",
        "outputId": "6b4c09d5-7af4-48b0-907c-697280d20904"
      },
      "execution_count": 13,
      "outputs": [
        {
          "output_type": "stream",
          "name": "stdout",
          "text": [
            "(784,)\n",
            "(10,)\n",
            "(2, 10)\n"
          ]
        }
      ]
    },
    {
      "cell_type": "code",
      "source": [
        "def custom_transform(img):\n",
        "    img = np.array(img, dtype=np.float32).reshape(-1)\n",
        "\n",
        "    return img\n",
        "\n",
        "def custom_collate_fn(batch):\n",
        "    transposed_data = list(zip(*batch))\n",
        "\n",
        "    images = np.stack(transposed_data[0])\n",
        "    labels = np.array(transposed_data[1])\n",
        "\n",
        "    return (images, labels)\n",
        "\n",
        "\n",
        "train_dataset = MNIST(root='./train_mnist', train=True, download=True, transform=custom_transform)\n",
        "test_dataset = MNIST(root='./test_mnist', train=False, download=True, transform=custom_transform)\n",
        "\n",
        "train_loader = DataLoader(train_dataset, batch_size=batch_size, shuffle=True, collate_fn=custom_collate_fn)\n",
        "test_loader = DataLoader(test_dataset, batch_size=batch_size, shuffle=False, collate_fn=custom_collate_fn)\n",
        "\n",
        "batch_data = next(iter(train_loader))\n",
        "print(batch_data[0].shape)  # images shape\n",
        "print(batch_data[1].shape)  # labels shape\n",
        "print(type(batch_data[0]))"
      ],
      "metadata": {
        "colab": {
          "base_uri": "https://localhost:8080/"
        },
        "id": "aqoA1ZxCarIh",
        "outputId": "fe377a47-802c-4184-a48b-e6265ac1d326"
      },
      "execution_count": 6,
      "outputs": [
        {
          "output_type": "stream",
          "name": "stdout",
          "text": [
            "Downloading http://yann.lecun.com/exdb/mnist/train-images-idx3-ubyte.gz\n",
            "Failed to download (trying next):\n",
            "HTTP Error 403: Forbidden\n",
            "\n",
            "Downloading https://ossci-datasets.s3.amazonaws.com/mnist/train-images-idx3-ubyte.gz\n",
            "Downloading https://ossci-datasets.s3.amazonaws.com/mnist/train-images-idx3-ubyte.gz to ./train_mnist/MNIST/raw/train-images-idx3-ubyte.gz\n"
          ]
        },
        {
          "output_type": "stream",
          "name": "stderr",
          "text": [
            "100%|██████████| 9912422/9912422 [00:10<00:00, 909796.64it/s] \n"
          ]
        },
        {
          "output_type": "stream",
          "name": "stdout",
          "text": [
            "Extracting ./train_mnist/MNIST/raw/train-images-idx3-ubyte.gz to ./train_mnist/MNIST/raw\n",
            "\n",
            "Downloading http://yann.lecun.com/exdb/mnist/train-labels-idx1-ubyte.gz\n",
            "Failed to download (trying next):\n",
            "HTTP Error 403: Forbidden\n",
            "\n",
            "Downloading https://ossci-datasets.s3.amazonaws.com/mnist/train-labels-idx1-ubyte.gz\n",
            "Downloading https://ossci-datasets.s3.amazonaws.com/mnist/train-labels-idx1-ubyte.gz to ./train_mnist/MNIST/raw/train-labels-idx1-ubyte.gz\n"
          ]
        },
        {
          "output_type": "stream",
          "name": "stderr",
          "text": [
            "100%|██████████| 28881/28881 [00:00<00:00, 134107.66it/s]\n"
          ]
        },
        {
          "output_type": "stream",
          "name": "stdout",
          "text": [
            "Extracting ./train_mnist/MNIST/raw/train-labels-idx1-ubyte.gz to ./train_mnist/MNIST/raw\n",
            "\n",
            "Downloading http://yann.lecun.com/exdb/mnist/t10k-images-idx3-ubyte.gz\n",
            "Failed to download (trying next):\n",
            "HTTP Error 403: Forbidden\n",
            "\n",
            "Downloading https://ossci-datasets.s3.amazonaws.com/mnist/t10k-images-idx3-ubyte.gz\n",
            "Downloading https://ossci-datasets.s3.amazonaws.com/mnist/t10k-images-idx3-ubyte.gz to ./train_mnist/MNIST/raw/t10k-images-idx3-ubyte.gz\n"
          ]
        },
        {
          "output_type": "stream",
          "name": "stderr",
          "text": [
            "100%|██████████| 1648877/1648877 [00:01<00:00, 852524.97it/s] \n"
          ]
        },
        {
          "output_type": "stream",
          "name": "stdout",
          "text": [
            "Extracting ./train_mnist/MNIST/raw/t10k-images-idx3-ubyte.gz to ./train_mnist/MNIST/raw\n",
            "\n",
            "Downloading http://yann.lecun.com/exdb/mnist/t10k-labels-idx1-ubyte.gz\n",
            "Failed to download (trying next):\n",
            "HTTP Error 403: Forbidden\n",
            "\n",
            "Downloading https://ossci-datasets.s3.amazonaws.com/mnist/t10k-labels-idx1-ubyte.gz\n",
            "Downloading https://ossci-datasets.s3.amazonaws.com/mnist/t10k-labels-idx1-ubyte.gz to ./train_mnist/MNIST/raw/t10k-labels-idx1-ubyte.gz\n"
          ]
        },
        {
          "output_type": "stream",
          "name": "stderr",
          "text": [
            "100%|██████████| 4542/4542 [00:00<00:00, 4531524.45it/s]\n"
          ]
        },
        {
          "output_type": "stream",
          "name": "stdout",
          "text": [
            "Extracting ./train_mnist/MNIST/raw/t10k-labels-idx1-ubyte.gz to ./train_mnist/MNIST/raw\n",
            "\n",
            "Downloading http://yann.lecun.com/exdb/mnist/train-images-idx3-ubyte.gz\n",
            "Failed to download (trying next):\n",
            "HTTP Error 403: Forbidden\n",
            "\n",
            "Downloading https://ossci-datasets.s3.amazonaws.com/mnist/train-images-idx3-ubyte.gz\n",
            "Downloading https://ossci-datasets.s3.amazonaws.com/mnist/train-images-idx3-ubyte.gz to ./test_mnist/MNIST/raw/train-images-idx3-ubyte.gz\n"
          ]
        },
        {
          "output_type": "stream",
          "name": "stderr",
          "text": [
            "100%|██████████| 9912422/9912422 [00:02<00:00, 4180898.87it/s]\n"
          ]
        },
        {
          "output_type": "stream",
          "name": "stdout",
          "text": [
            "Extracting ./test_mnist/MNIST/raw/train-images-idx3-ubyte.gz to ./test_mnist/MNIST/raw\n",
            "\n",
            "Downloading http://yann.lecun.com/exdb/mnist/train-labels-idx1-ubyte.gz\n",
            "Failed to download (trying next):\n",
            "HTTP Error 403: Forbidden\n",
            "\n",
            "Downloading https://ossci-datasets.s3.amazonaws.com/mnist/train-labels-idx1-ubyte.gz\n",
            "Downloading https://ossci-datasets.s3.amazonaws.com/mnist/train-labels-idx1-ubyte.gz to ./test_mnist/MNIST/raw/train-labels-idx1-ubyte.gz\n"
          ]
        },
        {
          "output_type": "stream",
          "name": "stderr",
          "text": [
            "100%|██████████| 28881/28881 [00:00<00:00, 58660.87it/s]\n"
          ]
        },
        {
          "output_type": "stream",
          "name": "stdout",
          "text": [
            "Extracting ./test_mnist/MNIST/raw/train-labels-idx1-ubyte.gz to ./test_mnist/MNIST/raw\n",
            "\n",
            "Downloading http://yann.lecun.com/exdb/mnist/t10k-images-idx3-ubyte.gz\n",
            "Failed to download (trying next):\n",
            "HTTP Error 403: Forbidden\n",
            "\n",
            "Downloading https://ossci-datasets.s3.amazonaws.com/mnist/t10k-images-idx3-ubyte.gz\n",
            "Downloading https://ossci-datasets.s3.amazonaws.com/mnist/t10k-images-idx3-ubyte.gz to ./test_mnist/MNIST/raw/t10k-images-idx3-ubyte.gz\n"
          ]
        },
        {
          "output_type": "stream",
          "name": "stderr",
          "text": [
            "100%|██████████| 1648877/1648877 [00:01<00:00, 1270897.07it/s]\n"
          ]
        },
        {
          "output_type": "stream",
          "name": "stdout",
          "text": [
            "Extracting ./test_mnist/MNIST/raw/t10k-images-idx3-ubyte.gz to ./test_mnist/MNIST/raw\n",
            "\n",
            "Downloading http://yann.lecun.com/exdb/mnist/t10k-labels-idx1-ubyte.gz\n",
            "Failed to download (trying next):\n",
            "HTTP Error 403: Forbidden\n",
            "\n",
            "Downloading https://ossci-datasets.s3.amazonaws.com/mnist/t10k-labels-idx1-ubyte.gz\n",
            "Downloading https://ossci-datasets.s3.amazonaws.com/mnist/t10k-labels-idx1-ubyte.gz to ./test_mnist/MNIST/raw/t10k-labels-idx1-ubyte.gz\n"
          ]
        },
        {
          "output_type": "stream",
          "name": "stderr",
          "text": [
            "100%|██████████| 4542/4542 [00:00<00:00, 2806501.00it/s]"
          ]
        },
        {
          "output_type": "stream",
          "name": "stdout",
          "text": [
            "Extracting ./test_mnist/MNIST/raw/t10k-labels-idx1-ubyte.gz to ./test_mnist/MNIST/raw\n",
            "\n",
            "(128, 784)\n",
            "(128,)\n",
            "<class 'numpy.ndarray'>\n"
          ]
        },
        {
          "output_type": "stream",
          "name": "stderr",
          "text": [
            "\n"
          ]
        }
      ]
    },
    {
      "cell_type": "code",
      "source": [
        "num_epochs = 10\n",
        "\n",
        "\n",
        "def loss_fn(params, imgs, gt_labels):\n",
        "    predictions = batched_MLP_predict(params, imgs)   # (b, 10)\n",
        "\n",
        "    return -jnp.mean(predictions * gt_labels)\n",
        "\n",
        "@jit\n",
        "def update(params, imgs, gt_labels, lr=0.001):\n",
        "    loss, grads = jax.value_and_grad(loss_fn)(params, imgs, gt_labels)\n",
        "    return loss, jax.tree.map(lambda x, y: x - lr * y, params, grads)\n",
        "\n",
        "def accuracy(params, imgs, gt_labels):\n",
        "    predictions = batched_MLP_predict(params, imgs)\n",
        "    return jnp.mean(jnp.argmax(predictions, axis=1) == gt_labels)\n",
        "\n",
        "\n",
        "for epoch in range(num_epochs):\n",
        "\n",
        "    for imgs, labels in train_loader:\n",
        "        gt_labels = jax.nn.one_hot(labels, 10)\n",
        "\n",
        "        loss, MLP_params = update(MLP_params, imgs, gt_labels)\n",
        "\n",
        "    print(loss)"
      ],
      "metadata": {
        "colab": {
          "base_uri": "https://localhost:8080/"
        },
        "id": "bj0kVXiyiWhw",
        "outputId": "3a1aeb8d-fb0c-4cc0-aa93-5d849e92a2f8"
      },
      "execution_count": 10,
      "outputs": [
        {
          "output_type": "stream",
          "name": "stdout",
          "text": [
            "0.026396247\n",
            "0.034232005\n",
            "0.02659723\n",
            "0.03208719\n",
            "0.019675748\n",
            "0.028255003\n",
            "0.017632565\n",
            "0.021320753\n",
            "0.0277717\n",
            "0.017740807\n"
          ]
        }
      ]
    },
    {
      "cell_type": "code",
      "source": [
        "accuracy(MLP_params, *next(iter(test_loader)))"
      ],
      "metadata": {
        "colab": {
          "base_uri": "https://localhost:8080/"
        },
        "id": "BYZ13ueJm4tt",
        "outputId": "03714ebd-3894-4d6c-ffc5-a995c1b6063b"
      },
      "execution_count": 14,
      "outputs": [
        {
          "output_type": "execute_result",
          "data": {
            "text/plain": [
              "Array(0.953125, dtype=float32)"
            ]
          },
          "metadata": {},
          "execution_count": 14
        }
      ]
    },
    {
      "cell_type": "code",
      "source": [
        "print(type(MLP_params[0][0]))"
      ],
      "metadata": {
        "colab": {
          "base_uri": "https://localhost:8080/"
        },
        "id": "LQ6rSwSbnuYJ",
        "outputId": "49c0a798-820d-40e0-a7bc-043e544bac65"
      },
      "execution_count": 20,
      "outputs": [
        {
          "output_type": "stream",
          "name": "stdout",
          "text": [
            "<class 'jaxlib.xla_extension.ArrayImpl'>\n"
          ]
        }
      ]
    },
    {
      "cell_type": "markdown",
      "source": [
        "# Visualizations"
      ],
      "metadata": {
        "id": "FCpkSJdMQkUK"
      }
    },
    {
      "cell_type": "code",
      "source": [
        "imgs, labels = next(iter(test_loader))\n",
        "\n",
        "predict = batched_MLP_predict(MLP_params, jnp.expand_dims(imgs[0], 0))\n",
        "print(predict.argmax(), '-', labels[0])\n",
        "\n",
        "img = imgs[0].reshape(mnist_img_size)\n",
        "plt.imshow(img); plt.show()"
      ],
      "metadata": {
        "colab": {
          "base_uri": "https://localhost:8080/",
          "height": 447
        },
        "id": "TC_ARHd5ozmQ",
        "outputId": "3d95559f-6cea-4c88-a201-2b417da6ccd5"
      },
      "execution_count": 25,
      "outputs": [
        {
          "output_type": "stream",
          "name": "stdout",
          "text": [
            "7 - 7\n"
          ]
        },
        {
          "output_type": "display_data",
          "data": {
            "text/plain": [
              "<Figure size 640x480 with 1 Axes>"
            ],
            "image/png": "[encoded data removed]"
          },
          "metadata": {}
        }
      ]
    },
    {
      "cell_type": "code",
      "source": [
        "# TODO: visualize the MLP weight\n",
        "# TODO: visualize embeddings using t-SNE\n",
        "# TODO: dead neurons"
      ],
      "metadata": {
        "id": "6sHXh9vSQlsa"
      },
      "execution_count": null,
      "outputs": []
    },
    {
      "cell_type": "code",
      "source": [
        "w = MLP_params[0][0]\n",
        "print(w.shape)"
      ],
      "metadata": {
        "colab": {
          "base_uri": "https://localhost:8080/"
        },
        "id": "uXR8dTYIpwoL",
        "outputId": "5783eff8-d28a-4072-dcf8-7d08e127898e"
      },
      "execution_count": 26,
      "outputs": [
        {
          "output_type": "stream",
          "name": "stdout",
          "text": [
            "(512, 784)\n"
          ]
        }
      ]
    },
    {
      "cell_type": "markdown",
      "source": [
        "# Parallelization"
      ],
      "metadata": {
        "id": "09o7NLAXQmF8"
      }
    },
    {
      "cell_type": "code",
      "source": [],
      "metadata": {
        "id": "sYvARQVBQnkD"
      },
      "execution_count": null,
      "outputs": []
    }
  ]
}